{
 "cells": [
  {
   "cell_type": "code",
   "execution_count": 1,
   "metadata": {},
   "outputs": [],
   "source": [
    "import json\n",
    "import os\n",
    "\n",
    "with open(\"../config.json\") as fptr:\n",
    "    config = json.load(fptr)\n",
    "    os.environ[\"OPENAI_API_KEY\"]  = config[\"OPENAI_API_KEY\"]\n",
    "    os.environ[\"OPENAI_API_BASE\"] = config[\"OPENAI_API_BASE\"]"
   ]
  },
  {
   "cell_type": "code",
   "execution_count": 3,
   "metadata": {},
   "outputs": [
    {
     "name": "stdout",
     "output_type": "stream",
     "text": [
      "{'product': 'colorful socks', 'text': 'ColorfulSockCo'}\n"
     ]
    }
   ],
   "source": [
    "from langchain_openai import ChatOpenAI\n",
    "from langchain.chains import LLMChain\n",
    "from langchain.prompts.chat import HumanMessagePromptTemplate, ChatPromptTemplate\n",
    "from langchain.prompts import PromptTemplate\n",
    "\n",
    "llm = ChatOpenAI(temperature=0.7, model=\"gpt-3.5-turbo\")\n",
    "\n",
    "human_message_prompt = HumanMessagePromptTemplate(\n",
    "    prompt=PromptTemplate(\n",
    "        template=\"What is a good name for a company that makes {product}?\",\n",
    "        input_variables=[\"product\"]\n",
    "    )\n",
    ")\n",
    "\n",
    "chat_prompt_template = ChatPromptTemplate.from_messages([human_message_prompt])\n",
    "chain = LLMChain(llm=llm, prompt=chat_prompt_template)\n",
    "\n",
    "print(chain.invoke(\"colorful socks\"))"
   ]
  },
  {
   "cell_type": "code",
   "execution_count": 4,
   "metadata": {},
   "outputs": [
    {
     "name": "stdout",
     "output_type": "stream",
     "text": [
      "\n",
      "\n",
      "\u001b[1m> Entering new SimpleSequentialChain chain...\u001b[0m\n",
      "\u001b[36;1m\u001b[1;3m\"Tragedy at Sunset on the Beach\" is a compelling and heart-wrenching drama that takes place in a picturesque coastal town. As the sun sets and casts a golden glow over the beach, a group of friends gather for a serene evening of laughter and reminiscing. However, beneath the surface of their seemingly idyllic lives, secrets, regrets, and unresolved conflicts simmer.\n",
      "\n",
      "The play explores the complex dynamics between the characters, each harboring their own personal tragedies and emotional burdens. As the evening progresses, tensions rise, and the tranquil atmosphere begins to fade. Old wounds are reopened, and long-buried resentments are brought to the forefront, threatening to shatter the fragile peace they have managed to maintain.\n",
      "\n",
      "Against the backdrop of crashing waves and fading light, the characters confront their deepest fears, regrets, and desires. The play delves into themes of love, loss, betrayal, and the search for redemption. As the sun finally disappears below the horizon, a devastating event unfolds, forever altering the lives of these friends and leaving them to grapple with the aftermath.\n",
      "\n",
      "\"Tragedy at Sunset on the Beach\" is an emotionally charged exploration of the human condition, showcasing the fragility of relationships and the destructive power of secrets. Through its poignant dialogue and intense performances, this play challenges the audience to reflect on their own lives and the choices they make, reminding us that even the most serene settings can be the backdrop for profound tragedy.\u001b[0m\n",
      "\u001b[33;1m\u001b[1;3mIn \"Tragedy at Sunset on the Beach,\" the audience is transported to a picturesque coastal town, where a group of friends come together for an evening that promises laughter and reminiscing. However, what initially appears to be an idyllic setting soon gives way to a gripping exploration of the human condition.\n",
      "\n",
      "Under the skillful direction of the playwright, the complex dynamics between the characters are brought to life with profound authenticity. Each character carries their own personal tragedies and emotional burdens, and as the evening progresses, these simmering tensions rise to the surface. The tranquil atmosphere that initially embraced the stage slowly fades, replaced by a palpable sense of unease.\n",
      "\n",
      "The strength of this play lies in its ability to delve deep into the human psyche. Through poignant dialogue and intense performances, the audience is confronted with themes of love, loss, betrayal, and the search for redemption. The crashing waves and fading light of the beach provide a fitting backdrop for the characters as they confront their deepest fears and desires.\n",
      "\n",
      "The performances in \"Tragedy at Sunset on the Beach\" are nothing short of remarkable. The cast excels in portraying the complexity and vulnerability of their characters, drawing the audience into their world and making us emotionally invest in their stories. The chemistry among the actors is palpable, heightening the believability of their relationships and the impact of their conflicts.\n",
      "\n",
      "As the sun finally disappears below the horizon, the play reaches its climax with a devastating event that forever alters the lives of the characters. This moment is executed with heartbreaking precision, leaving the audience in a state of shock and reflection. The aftermath of this tragedy lingers long after the final curtain call, compelling us to contemplate the fragility of our own relationships and the consequences of our choices.\n",
      "\n",
      "\"Tragedy at Sunset on the Beach\" is a powerful and thought-provoking drama that will leave audiences breathless. Its exploration of the destructive power of secrets and the fragility of relationships is expertly crafted, and the performances are truly exceptional. This play serves as a reminder that even the most serene settings can become the stage for profound tragedy.\u001b[0m\n",
      "\n",
      "\u001b[1m> Finished chain.\u001b[0m\n",
      "In \"Tragedy at Sunset on the Beach,\" the audience is transported to a picturesque coastal town, where a group of friends come together for an evening that promises laughter and reminiscing. However, what initially appears to be an idyllic setting soon gives way to a gripping exploration of the human condition.\n",
      "\n",
      "Under the skillful direction of the playwright, the complex dynamics between the characters are brought to life with profound authenticity. Each character carries their own personal tragedies and emotional burdens, and as the evening progresses, these simmering tensions rise to the surface. The tranquil atmosphere that initially embraced the stage slowly fades, replaced by a palpable sense of unease.\n",
      "\n",
      "The strength of this play lies in its ability to delve deep into the human psyche. Through poignant dialogue and intense performances, the audience is confronted with themes of love, loss, betrayal, and the search for redemption. The crashing waves and fading light of the beach provide a fitting backdrop for the characters as they confront their deepest fears and desires.\n",
      "\n",
      "The performances in \"Tragedy at Sunset on the Beach\" are nothing short of remarkable. The cast excels in portraying the complexity and vulnerability of their characters, drawing the audience into their world and making us emotionally invest in their stories. The chemistry among the actors is palpable, heightening the believability of their relationships and the impact of their conflicts.\n",
      "\n",
      "As the sun finally disappears below the horizon, the play reaches its climax with a devastating event that forever alters the lives of the characters. This moment is executed with heartbreaking precision, leaving the audience in a state of shock and reflection. The aftermath of this tragedy lingers long after the final curtain call, compelling us to contemplate the fragility of our own relationships and the consequences of our choices.\n",
      "\n",
      "\"Tragedy at Sunset on the Beach\" is a powerful and thought-provoking drama that will leave audiences breathless. Its exploration of the destructive power of secrets and the fragility of relationships is expertly crafted, and the performances are truly exceptional. This play serves as a reminder that even the most serene settings can become the stage for profound tragedy.\n"
     ]
    }
   ],
   "source": [
    "from langchain.chains import SimpleSequentialChain\n",
    "\n",
    "# Step 1:\n",
    "template = \"\"\"You are a playwright. Given the title of a play, your job is to write a \n",
    "synopsis for that title.\n",
    "\n",
    "Title: {title}\n",
    "Playwright: This is a synopsis for the above play:\"\"\"\n",
    "\n",
    "llm = ChatOpenAI(temperature=0.7)\n",
    "\n",
    "prompt_template = PromptTemplate(template=template, input_variables=[\"title\"])\n",
    "synopsis_chain = LLMChain(llm=llm, prompt=prompt_template)\n",
    "\n",
    "# Step 2:\n",
    "template = \"\"\"You are a play critic from the New York Times. Given the synopsis of play,\n",
    "it is your job to write a review for that play.\n",
    "\n",
    "Play Synopsis:\n",
    "{synopsis}\n",
    "Review from a New York Times play critic of the above play:\"\"\"\n",
    "\n",
    "llm = ChatOpenAI(temperature=0.7)\n",
    "\n",
    "prompt_template = PromptTemplate(input_variables=[\"synopsis\"], template=template)\n",
    "review_chain = LLMChain(llm=llm, prompt=prompt_template)\n",
    "\n",
    "overall_chain = SimpleSequentialChain(\n",
    "    chains=[synopsis_chain, review_chain], verbose=True\n",
    ")\n",
    "\n",
    "review = overall_chain.run(\"Tragedy at sunset on the beach\")\n",
    "print(review)"
   ]
  }
 ],
 "metadata": {
  "kernelspec": {
   "display_name": ".venv",
   "language": "python",
   "name": "python3"
  },
  "language_info": {
   "codemirror_mode": {
    "name": "ipython",
    "version": 3
   },
   "file_extension": ".py",
   "mimetype": "text/x-python",
   "name": "python",
   "nbconvert_exporter": "python",
   "pygments_lexer": "ipython3",
   "version": "3.11.4"
  }
 },
 "nbformat": 4,
 "nbformat_minor": 2
}
