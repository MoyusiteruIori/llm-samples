{
 "cells": [
  {
   "cell_type": "code",
   "execution_count": 2,
   "metadata": {},
   "outputs": [],
   "source": [
    "import json\n",
    "import os\n",
    "\n",
    "with open(\"../config.json\") as fptr:\n",
    "    os.environ[\"OPENAI_API_KEY\"] = json.load(fptr)[\"OPENAI_API_KEY\"]\n",
    "\n",
    "# setup network proxy\n",
    "os.environ[\"http_proxy\"] = \"http://127.0.0.1:7890\"\n",
    "os.environ[\"https_proxy\"] = \"http://127.0.0.1:7890\""
   ]
  },
  {
   "cell_type": "code",
   "execution_count": 3,
   "metadata": {},
   "outputs": [
    {
     "name": "stdout",
     "output_type": "stream",
     "text": [
      "VibrantSocks\n"
     ]
    }
   ],
   "source": [
    "from langchain_openai import ChatOpenAI\n",
    "from langchain.chains import LLMChain\n",
    "from langchain.prompts.chat import HumanMessagePromptTemplate, ChatPromptTemplate\n",
    "from langchain.prompts import PromptTemplate\n",
    "\n",
    "llm = ChatOpenAI(temperature=0.7, model=\"gpt-3.5-turbo\")\n",
    "\n",
    "human_message_prompt = HumanMessagePromptTemplate(\n",
    "    prompt=PromptTemplate(\n",
    "        template=\"What is a good name for a company that makes {product}?\",\n",
    "        input_variables=[\"product\"]\n",
    "    )\n",
    ")\n",
    "\n",
    "chat_prompt_template = ChatPromptTemplate.from_messages([human_message_prompt])\n",
    "chain = LLMChain(llm=llm, prompt=chat_prompt_template)\n",
    "\n",
    "print(chain.run(\"colorful socks\"))"
   ]
  },
  {
   "cell_type": "code",
   "execution_count": 5,
   "metadata": {},
   "outputs": [
    {
     "name": "stdout",
     "output_type": "stream",
     "text": [
      "\n",
      "\n",
      "\u001b[1m> Entering new SimpleSequentialChain chain...\u001b[0m\n",
      "\u001b[36;1m\u001b[1;3mIn \"Tragedy at Sunset on the Beach,\" the idyllic setting of a serene, picturesque beach becomes the backdrop for a gripping tale of love, loss, and personal redemption. As the sun sets, casting a warm golden glow over the sand and sea, a group of diverse characters find their lives intertwined in unexpected ways.\n",
      "\n",
      "At the heart of the story is Olivia, a young woman haunted by a tragic past. Seeking solace in the beauty of the beach, she encounters Ethan, a charismatic but troubled artist. As they form a tentative connection, their tumultuous relationship becomes a catalyst for the unfolding drama.\n",
      "\n",
      "Unbeknownst to Olivia and Ethan, their lives intersect with those of two other individuals. Rachel, a seasoned journalist, arrives at the beach to investigate a mysterious disappearance that occurred years ago. As she delves deeper into the case, she uncovers dark secrets that threaten to consume her.\n",
      "\n",
      "Simultaneously, Daniel, a reclusive novelist, seeks inspiration for his next masterpiece. Drawn to the beach's ethereal ambiance, he becomes an observer of the unfolding events, finding himself entangled in the emotional turmoil of the other characters.\n",
      "\n",
      "As the play progresses, the sun's descent beneath the horizon mirrors the characters' descent into emotional turmoil. Betrayal, heartbreak, and the weight of past mistakes come crashing down, culminating in a climactic confrontation at sunset.\n",
      "\n",
      "\"Tragedy at Sunset on the Beach\" explores the fragility of human relationships and the power of redemption. It delves into themes of forgiveness, self-discovery, and the enduring hope that can arise from even the darkest of tragedies. Set against the breathtaking backdrop of a beach at sunset, this play offers a poignant and thought-provoking exploration of the human spirit.\u001b[0m\n",
      "\u001b[33;1m\u001b[1;3mIn \"Tragedy at Sunset on the Beach,\" the captivating power of the setting shines through in this gripping tale of love, loss, and personal redemption. The idyllic beach becomes more than just a backdrop; it becomes a character in its own right, evoking a sense of serenity and beauty that contrasts sharply with the tumultuous lives of the characters.\n",
      "\n",
      "At the heart of this story is Olivia, brilliantly portrayed by [Actress], whose haunting past adds a layer of depth and vulnerability to her character. She finds solace in the beach's beauty, and her encounter with Ethan, played with magnetic charm by [Actor], sparks a relationship that becomes the catalyst for the play's unfolding drama. Their chemistry is palpable, and their journey is filled with both tenderness and turmoil.\n",
      "\n",
      "But \"Tragedy at Sunset on the Beach\" doesn't stop there. The playwright expertly weaves together the lives of Rachel, a seasoned journalist on the brink of discovery, and Daniel, a reclusive novelist seeking inspiration. These characters, portrayed with great depth by [Actress] and [Actor], respectively, add further layers of intrigue and complexity to the narrative. As their paths intersect with Olivia and Ethan's, dark secrets are unearthed, and the emotional turmoil reaches its peak.\n",
      "\n",
      "The play's structure is ingeniously mirrored in the descent of the sun beneath the horizon, symbolizing the characters' descent into emotional chaos. The use of light and darkness is masterfully employed, creating an atmosphere of tension and foreboding. The climactic confrontation at sunset is a tour de force, leaving the audience breathless and emotionally spent.\n",
      "\n",
      "Director [Director] has done a remarkable job of bringing this story to life on stage. The seamless transitions between scenes, the evocative set design, and the skillful use of lighting and sound all contribute to the play's overall impact. The performances from the entire cast are stellar, with each actor fully embodying their character and delivering powerful and nuanced portrayals.\n",
      "\n",
      "\"Tragedy at Sunset on the Beach\" is a thought-provoking exploration of the human spirit. It delves into the complexities of human relationships, the weight of past mistakes, and the enduring hope that can emerge from the darkest of tragedies. The play's themes of forgiveness and self-discovery resonate long after the final curtain falls.\n",
      "\n",
      "Set against the breathtaking backdrop of a beach at sunset, this production is a visual feast that captivates the senses. It is a testament to the power of theater to transport and engage its audience. \"Tragedy at Sunset on the Beach\" is a must-see for theater enthusiasts and those seeking a poignant and emotionally resonant experience.\u001b[0m\n",
      "\n",
      "\u001b[1m> Finished chain.\u001b[0m\n",
      "In \"Tragedy at Sunset on the Beach,\" the captivating power of the setting shines through in this gripping tale of love, loss, and personal redemption. The idyllic beach becomes more than just a backdrop; it becomes a character in its own right, evoking a sense of serenity and beauty that contrasts sharply with the tumultuous lives of the characters.\n",
      "\n",
      "At the heart of this story is Olivia, brilliantly portrayed by [Actress], whose haunting past adds a layer of depth and vulnerability to her character. She finds solace in the beach's beauty, and her encounter with Ethan, played with magnetic charm by [Actor], sparks a relationship that becomes the catalyst for the play's unfolding drama. Their chemistry is palpable, and their journey is filled with both tenderness and turmoil.\n",
      "\n",
      "But \"Tragedy at Sunset on the Beach\" doesn't stop there. The playwright expertly weaves together the lives of Rachel, a seasoned journalist on the brink of discovery, and Daniel, a reclusive novelist seeking inspiration. These characters, portrayed with great depth by [Actress] and [Actor], respectively, add further layers of intrigue and complexity to the narrative. As their paths intersect with Olivia and Ethan's, dark secrets are unearthed, and the emotional turmoil reaches its peak.\n",
      "\n",
      "The play's structure is ingeniously mirrored in the descent of the sun beneath the horizon, symbolizing the characters' descent into emotional chaos. The use of light and darkness is masterfully employed, creating an atmosphere of tension and foreboding. The climactic confrontation at sunset is a tour de force, leaving the audience breathless and emotionally spent.\n",
      "\n",
      "Director [Director] has done a remarkable job of bringing this story to life on stage. The seamless transitions between scenes, the evocative set design, and the skillful use of lighting and sound all contribute to the play's overall impact. The performances from the entire cast are stellar, with each actor fully embodying their character and delivering powerful and nuanced portrayals.\n",
      "\n",
      "\"Tragedy at Sunset on the Beach\" is a thought-provoking exploration of the human spirit. It delves into the complexities of human relationships, the weight of past mistakes, and the enduring hope that can emerge from the darkest of tragedies. The play's themes of forgiveness and self-discovery resonate long after the final curtain falls.\n",
      "\n",
      "Set against the breathtaking backdrop of a beach at sunset, this production is a visual feast that captivates the senses. It is a testament to the power of theater to transport and engage its audience. \"Tragedy at Sunset on the Beach\" is a must-see for theater enthusiasts and those seeking a poignant and emotionally resonant experience.\n"
     ]
    }
   ],
   "source": [
    "from langchain.chains import SimpleSequentialChain\n",
    "\n",
    "# Step 1:\n",
    "template = \"\"\"You are a playwright. Given the title of a play, your job is to write a \n",
    "synopsis for that title.\n",
    "\n",
    "Title: {title}\n",
    "Playwright: This is a synopsis for the above play:\"\"\"\n",
    "\n",
    "llm = ChatOpenAI(temperature=0.7)\n",
    "\n",
    "prompt_template = PromptTemplate(template=template, input_variables=[\"title\"])\n",
    "synopsis_chain = LLMChain(llm=llm, prompt=prompt_template)\n",
    "\n",
    "# Step 2:\n",
    "template = \"\"\"You are a play critic from the New York Times. Given the synopsis of play,\n",
    "it is your job to write a review for that play.\n",
    "\n",
    "Play Synopsis:\n",
    "{synopsis}\n",
    "Review from a New York Times play critic of the above play:\"\"\"\n",
    "\n",
    "llm = ChatOpenAI(temperature=0.7)\n",
    "\n",
    "prompt_template = PromptTemplate(input_variables=[\"synopsis\"], template=template)\n",
    "review_chain = LLMChain(llm=llm, prompt=prompt_template)\n",
    "\n",
    "overall_chain = SimpleSequentialChain(\n",
    "    chains=[synopsis_chain, review_chain], verbose=True\n",
    ")\n",
    "\n",
    "review = overall_chain.run(\"Tragedy at sunset on the beach\")\n",
    "print(review)"
   ]
  }
 ],
 "metadata": {
  "kernelspec": {
   "display_name": ".venv",
   "language": "python",
   "name": "python3"
  },
  "language_info": {
   "codemirror_mode": {
    "name": "ipython",
    "version": 3
   },
   "file_extension": ".py",
   "mimetype": "text/x-python",
   "name": "python",
   "nbconvert_exporter": "python",
   "pygments_lexer": "ipython3",
   "version": "3.11.4"
  }
 },
 "nbformat": 4,
 "nbformat_minor": 2
}
