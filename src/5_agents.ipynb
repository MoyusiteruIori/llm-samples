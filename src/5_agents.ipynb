{
 "cells": [
  {
   "cell_type": "code",
   "execution_count": 3,
   "metadata": {},
   "outputs": [],
   "source": [
    "import json\n",
    "import os\n",
    "\n",
    "with open(\"../config.json\") as fptr:\n",
    "    config = json.load(fptr)\n",
    "    os.environ[\"OPENAI_API_KEY\"]  = config[\"OPENAI_API_KEY\"]\n",
    "    os.environ[\"OPENAI_API_BASE\"] = config[\"OPENAI_API_BASE\"]\n",
    "    os.environ[\"SERPAPI_API_KEY\"] = config[\"SERPAPI_API_KEY\"]"
   ]
  },
  {
   "cell_type": "code",
   "execution_count": 5,
   "metadata": {},
   "outputs": [
    {
     "name": "stdout",
     "output_type": "stream",
     "text": [
      "\n",
      "\n",
      "\u001b[1m> Entering new AgentExecutor chain...\u001b[0m\n",
      "\u001b[32;1m\u001b[1;3m{\n",
      "    \"action\": \"Final Answer\",\n",
      "    \"action_input\": \"I'm sorry, but I don't have access to personal information about individuals. Is there anything else I can help you with?\" \n",
      "}\u001b[0m\n",
      "\n",
      "\u001b[1m> Finished chain.\u001b[0m\n"
     ]
    },
    {
     "data": {
      "text/plain": [
       "{'input': \"what's my name?\",\n",
       " 'chat_history': [HumanMessage(content=\"what's my name?\"),\n",
       "  AIMessage(content=\"I'm sorry, but I don't have access to personal information about individuals. Is there anything else I can help you with?\")],\n",
       " 'output': \"I'm sorry, but I don't have access to personal information about individuals. Is there anything else I can help you with?\"}"
      ]
     },
     "execution_count": 5,
     "metadata": {},
     "output_type": "execute_result"
    }
   ],
   "source": [
    "from langchain_openai import ChatOpenAI\n",
    "from langchain.agents import Tool\n",
    "from langchain.agents import AgentType\n",
    "from langchain.memory import ConversationBufferMemory\n",
    "from langchain.chat_models import ChatOpenAI\n",
    "from langchain.utilities import SerpAPIWrapper\n",
    "from langchain.agents import initialize_agent\n",
    "\n",
    "search = SerpAPIWrapper()\n",
    "tools = [\n",
    "    Tool(\n",
    "        name = \"Current Search\",\n",
    "        func=search.run,\n",
    "        description=\"useful for when you need to answer questions about current events \\\n",
    "        or the current state of the world\"\n",
    "    ),\n",
    "]\n",
    "memory = ConversationBufferMemory(memory_key=\"chat_history\", return_messages=True)\n",
    "llm = ChatOpenAI()\n",
    "agent_chain = initialize_agent(\n",
    "tools,\n",
    "llm,\n",
    "agent=AgentType.CHAT_CONVERSATIONAL_REACT_DESCRIPTION,\n",
    "verbose=True,\n",
    "memory=memory\n",
    ")\n",
    "\n",
    "agent_chain.invoke(input=\"what's my name?\")"
   ]
  },
  {
   "cell_type": "code",
   "execution_count": 6,
   "metadata": {},
   "outputs": [
    {
     "name": "stdout",
     "output_type": "stream",
     "text": [
      "\n",
      "\n",
      "\u001b[1m> Entering new AgentExecutor chain...\u001b[0m\n",
      "\u001b[32;1m\u001b[1;3m{\n",
      "    \"action\": \"Current Search\",\n",
      "    \"action_input\": \"weather in Pomfret\"\n",
      "}\u001b[0m\n",
      "Observation: \u001b[36;1m\u001b[1;3m{'type': 'weather_result', 'temperature': '8', 'unit': 'Fahrenheit', 'precipitation': '0%', 'humidity': '64%', 'wind': '10 mph', 'location': 'Pomfret, CT', 'date': 'Sunday 7:00 AM', 'weather': 'Clear'}\u001b[0m\n",
      "Thought:\u001b[32;1m\u001b[1;3m{\n",
      "    \"action\": \"Final Answer\",\n",
      "    \"action_input\": \"The current weather in Pomfret, CT is clear with a temperature of 8 degrees Fahrenheit, 0% precipitation, 64% humidity, and a wind speed of 10 mph. This information was obtained from a weather source.\"\n",
      "}\u001b[0m\n",
      "\n",
      "\u001b[1m> Finished chain.\u001b[0m\n"
     ]
    },
    {
     "data": {
      "text/plain": [
       "{'input': 'whats the weather like in pomfret?',\n",
       " 'chat_history': [HumanMessage(content=\"what's my name?\"),\n",
       "  AIMessage(content=\"I'm sorry, but I don't have access to personal information about individuals. Is there anything else I can help you with?\"),\n",
       "  HumanMessage(content='whats the weather like in pomfret?'),\n",
       "  AIMessage(content='The current weather in Pomfret, CT is clear with a temperature of 8 degrees Fahrenheit, 0% precipitation, 64% humidity, and a wind speed of 10 mph. This information was obtained from a weather source.')],\n",
       " 'output': 'The current weather in Pomfret, CT is clear with a temperature of 8 degrees Fahrenheit, 0% precipitation, 64% humidity, and a wind speed of 10 mph. This information was obtained from a weather source.'}"
      ]
     },
     "execution_count": 6,
     "metadata": {},
     "output_type": "execute_result"
    }
   ],
   "source": [
    "agent_chain.invoke(input=\"whats the weather like in pomfret?\")"
   ]
  }
 ],
 "metadata": {
  "kernelspec": {
   "display_name": ".venv",
   "language": "python",
   "name": "python3"
  },
  "language_info": {
   "codemirror_mode": {
    "name": "ipython",
    "version": 3
   },
   "file_extension": ".py",
   "mimetype": "text/x-python",
   "name": "python",
   "nbconvert_exporter": "python",
   "pygments_lexer": "ipython3",
   "version": "3.11.4"
  }
 },
 "nbformat": 4,
 "nbformat_minor": 2
}
